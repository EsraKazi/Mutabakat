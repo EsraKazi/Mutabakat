{
 "cells": [
  {
   "cell_type": "markdown",
   "metadata": {},
   "source": [
    "# Mutabakat"
   ]
  },
  {
   "cell_type": "markdown",
   "metadata": {},
   "source": [
    " ## Veri Manipülasyonu Tamamlanan aşamalar\n",
    "* Veri setleri csv versiyonuyla veri çerçevesi(DataFrame, df) olarak yüklendi\n",
    "    *  Sedna, Booking, Expedia\n",
    "* Sedna \n",
    "    * \"T.Oda Fiyatı\" sütunu ',' yerine '.' kullanıyor\n",
    "* Booking\n",
    "    * 'on_bad_lines' parametresi 'skip' olarak atandı.\n",
    "    * 'Price' sütunundan 'EUR' kaldırıldı.\n",
    "    * 'Price' ve 'Book number' sütunları 'T.Oda Fiyatı' ve 'Voucher' olarak yeniden isimlendirildi.\n",
    "* Expedia\n",
    "    * 'on_bad_lines' parametresi 'skip' olarak atandı.\n",
    "    * 'Price' sütunundan 'EUR' kaldırıldı.\n",
    "    * 'Rezervasyon Tutarı' ve 'Reservation no.' sütunları 'T.Oda Fiyatı' ve 'Voucher' olarak yeniden isimlendirildi. "
   ]
  },
  {
   "cell_type": "code",
   "execution_count": null,
   "metadata": {},
   "outputs": [],
   "source": [
    "import pandas as pd"
   ]
  },
  {
   "cell_type": "markdown",
   "metadata": {},
   "source": [
    "## VERİ OKUMA"
   ]
  },
  {
   "cell_type": "markdown",
   "metadata": {},
   "source": [
    "### Sedna Datasını Okuma"
   ]
  },
  {
   "cell_type": "markdown",
   "metadata": {},
   "source": [
    "İlk satır bilgi olarak sadece \"Reservation Info\" stringi tuttuğu, son satır da bilgi olarak sadece \"Sum =(Toplam Değer)\" tuttuğu için kaldırılmıştır."
   ]
  },
  {
   "cell_type": "code",
   "execution_count": null,
   "metadata": {},
   "outputs": [],
   "source": [
    "sedna_df = pd.read_csv(\"./SednaUtf8QuoteOff.csv\",on_bad_lines='skip',sep=';', usecols=['Voucher','T.Oda Fiyatı'],skipfooter=1, engine='python')\n",
    "booking_df = pd.read_excel(\"./Booking.xls\", usecols=['Book number', 'Price', 'Status', 'Commission amount'])\n",
    "expedia_df = pd.read_csv(\"./reservationsList.csv\", usecols=['Rezervasyon no.','Rezervasyon tutarı'])"
   ]
  },
  {
   "cell_type": "code",
   "execution_count": null,
   "metadata": {},
   "outputs": [],
   "source": [
    "sedna_df.head()"
   ]
  },
  {
   "cell_type": "code",
   "execution_count": null,
   "metadata": {},
   "outputs": [],
   "source": [
    "booking_df.head()"
   ]
  },
  {
   "cell_type": "code",
   "execution_count": null,
   "metadata": {},
   "outputs": [],
   "source": [
    "expedia_df.head()"
   ]
  },
  {
   "cell_type": "markdown",
   "metadata": {},
   "source": [
    "Integer geçişlerinde desimal değerlerde problem yaşamamamk için . ve virgülün yerleri değiştirilmiştir. Örn : \"1.440,0\" olan değer önce \"1440,0\", ardından \"1440.0\" olarak çevirilerek veri kaybı ve tutarsızlığı dengelenmiştir."
   ]
  },
  {
   "cell_type": "code",
   "execution_count": null,
   "metadata": {},
   "outputs": [],
   "source": [
    "sedna_df['T.Oda Fiyatı'] = sedna_df['T.Oda Fiyatı'].str.replace('.','')\n",
    "sedna_df.head()"
   ]
  },
  {
   "cell_type": "code",
   "execution_count": null,
   "metadata": {},
   "outputs": [],
   "source": [
    "sedna_df['T.Oda Fiyatı'] = sedna_df['T.Oda Fiyatı'].str.replace(',','.')\n",
    "sedna_df.head()"
   ]
  },
  {
   "cell_type": "markdown",
   "metadata": {},
   "source": [
    "\"Voucher\" ve \"T.Oda Fiyatı\" sütunlarının veri tipleri düzenlemesi"
   ]
  },
  {
   "cell_type": "code",
   "execution_count": null,
   "metadata": {},
   "outputs": [],
   "source": [
    "sedna_df[\"Voucher\"] = sedna_df[\"Voucher\"].astype(str)\n",
    "sedna_df[\"T.Oda Fiyatı\"] = sedna_df[\"T.Oda Fiyatı\"].astype(float)\n",
    "sedna_df= sedna_df.groupby('Voucher')['T.Oda Fiyatı'].sum().reset_index()"
   ]
  },
  {
   "cell_type": "code",
   "execution_count": null,
   "metadata": {},
   "outputs": [],
   "source": [
    "sedna_df"
   ]
  },
  {
   "cell_type": "markdown",
   "metadata": {},
   "source": [
    "# Booking Datasını Okuma"
   ]
  },
  {
   "cell_type": "markdown",
   "metadata": {},
   "source": [
    "Indeksler, sedna_df'de denk gelen değerlere sahip indekslerle isim olarak eşlendi. Bu rapor için gerekli sütunlar yüklendi. Komisyon ölçümlerinde farklılıkları önlemek için ayrı dataframe oluşturuldu."
   ]
  },
  {
   "cell_type": "code",
   "execution_count": null,
   "metadata": {},
   "outputs": [],
   "source": [
    "booking_df = booking_df.rename(columns={'Book number': 'Voucher','Price' : 'T.Oda Fiyatı'})\n",
    "commisions_booking_df = booking_df.copy()\n",
    "booking_df.head()"
   ]
  },
  {
   "cell_type": "markdown",
   "metadata": {},
   "source": [
    "##### String Değerlerini Kaldırma"
   ]
  },
  {
   "cell_type": "markdown",
   "metadata": {},
   "source": [
    "String değer tutan \"T.Oda Fiyatı\" ve \"Commission amount\" sütunlarından \" EUR\" değerleri, float veri ile matematiksel işlem imkanları için kaldırıldı."
   ]
  },
  {
   "cell_type": "code",
   "execution_count": null,
   "metadata": {},
   "outputs": [],
   "source": [
    "commisions_booking_df['T.Oda Fiyatı'] = commisions_booking_df['T.Oda Fiyatı'].str.replace(' EUR','')\n",
    "commisions_booking_df['Commission amount'] = commisions_booking_df['Commission amount'].str.replace(' EUR','')"
   ]
  },
  {
   "cell_type": "markdown",
   "metadata": {},
   "source": [
    "### Veri Tipi Düzenleme"
   ]
  },
  {
   "cell_type": "markdown",
   "metadata": {},
   "source": [
    "\"Voucher\", \"T.Oda Fiyatı\", \"Commission amount\" sütunnlarının tipleri veri kaybı ve tutarsızlığı önlemek için değiştirildi."
   ]
  },
  {
   "cell_type": "code",
   "execution_count": null,
   "metadata": {},
   "outputs": [],
   "source": [
    "commisions_booking_df[\"Voucher\"] = commisions_booking_df[\"Voucher\"].astype(str)\n",
    "commisions_booking_df[\"T.Oda Fiyatı\"] = commisions_booking_df[\"T.Oda Fiyatı\"].astype(float)\n",
    "commisions_booking_df[\"Commission amount\"] = commisions_booking_df[\"Commission amount\"].astype(float)"
   ]
  },
  {
   "cell_type": "code",
   "execution_count": null,
   "metadata": {},
   "outputs": [],
   "source": [
    "booking_df = commisions_booking_df[(commisions_booking_df['Status'] == 'ok')]"
   ]
  },
  {
   "cell_type": "code",
   "execution_count": null,
   "metadata": {},
   "outputs": [],
   "source": [
    "booking_df = commisions_booking_df[['Voucher','T.Oda Fiyatı']]"
   ]
  },
  {
   "cell_type": "markdown",
   "metadata": {},
   "source": [
    "expedia_df = pd.read_excel(\"./ExpediaDec.xlsx\",usecols=['Rezervasyon no.','Rezervasyon tutarı','Durum'])\n",
    "expedia_df= expedia_df.rename(columns={'Rezervasyon no.':'Voucher','Rezervasyon Tutari': 'T.Oda Fiyatı','Durum': 'Status'})\n",
    "expedia_df[\"Voucher\"] = expedia_df[\"Voucher\"].astype(str)\n",
    "expedia_df[\"T.Oda Fiyatı\"] = expedia_df[\"T.Oda Fiyatı\"].astype(float)"
   ]
  },
  {
   "cell_type": "markdown",
   "metadata": {},
   "source": [
    "### Veri Tipi Değiştirme"
   ]
  },
  {
   "cell_type": "code",
   "execution_count": null,
   "metadata": {},
   "outputs": [],
   "source": [
    "booking_df.loc[:, \"T.Oda Fiyatı\"] = booking_df[\"T.Oda Fiyatı\"].astype(float).round(2)"
   ]
  },
  {
   "cell_type": "code",
   "execution_count": null,
   "metadata": {},
   "outputs": [],
   "source": [
    "komisyon_df = commisions_booking_df[(commisions_booking_df['Status'] != 'ok') & (~commisions_booking_df['Commission amount'].isna())]\n",
    "komisyon_df.reset_index(drop=True, inplace=True)"
   ]
  },
  {
   "cell_type": "markdown",
   "metadata": {},
   "source": [
    "# Farkları Çıkartma"
   ]
  },
  {
   "cell_type": "markdown",
   "metadata": {},
   "source": [
    "\"Voucher\", \"T.Oda Fiyatı\", \"Commission amount\" sütunnlarının tipleri veri kaybı ve tutarsızlığı önlemek için değiştirildi."
   ]
  },
  {
   "cell_type": "code",
   "execution_count": null,
   "metadata": {},
   "outputs": [],
   "source": [
    "booking_df.head()"
   ]
  },
  {
   "cell_type": "code",
   "execution_count": null,
   "metadata": {},
   "outputs": [],
   "source": [
    "bookingdeVar_sednadaYok = booking_df[(commisions_booking_df['Status'] == 'ok') & (~booking_df['Voucher'].isin(sedna_df['Voucher']))]\n",
    "bookingdeVar_sednadaYok"
   ]
  },
  {
   "cell_type": "code",
   "execution_count": null,
   "metadata": {},
   "outputs": [],
   "source": [
    "booking_fark = sedna_df.merge(booking_df, on='Voucher')\n",
    "booking_fark= booking_fark.rename(columns={'T.Oda Fiyatı_x':'Sedna Tutarı','T.Oda Fiyatı_y': 'Booking.com Tutarı'})"
   ]
  },
  {
   "cell_type": "markdown",
   "metadata": {},
   "source": [
    "Sedna - Booking 0 dan farklı olanları yazdır"
   ]
  },
  {
   "cell_type": "code",
   "execution_count": null,
   "metadata": {},
   "outputs": [],
   "source": [
    "booking_fark['Booking.com Tutarı'] = (booking_fark['Booking.com Tutarı']).round(2)\n",
    "booking_fark['FARK'] = booking_fark['Sedna Tutarı'] - booking_fark['Booking.com Tutarı']\n",
    "booking_fark = booking_fark[booking_fark['FARK'] != 0]"
   ]
  },
  {
   "cell_type": "markdown",
   "metadata": {},
   "source": [
    "### Vergi Ekleme\n"
   ]
  },
  {
   "cell_type": "markdown",
   "metadata": {},
   "source": [
    "Booking Datasına %2 vergiyi ekleyip 0'dan farklı olanı yazdır"
   ]
  },
  {
   "cell_type": "code",
   "execution_count": null,
   "metadata": {},
   "outputs": [],
   "source": [
    "#################    KESİLEN %2 VERGİ   ###########\n",
    "vergi = 1.01818"
   ]
  },
  {
   "cell_type": "code",
   "execution_count": null,
   "metadata": {},
   "outputs": [],
   "source": [
    "booking_fark['Booking.com Tutarı Vergili'] = (booking_fark['Booking.com Tutarı'] * vergi).round(2)\n",
    "booking_fark['FARK Vergili'] = booking_fark['Sedna Tutarı'] - booking_fark['Booking.com Tutarı Vergili']\n",
    "booking_fark = booking_fark[booking_fark['FARK Vergili'] != 0]"
   ]
  },
  {
   "cell_type": "markdown",
   "metadata": {},
   "source": [
    "# Expedia Datasını Okuma"
   ]
  },
  {
   "cell_type": "code",
   "execution_count": null,
   "metadata": {},
   "outputs": [],
   "source": [
    "expedia_df = expedia_df.rename(columns={'Rezervasyon no.': 'Voucher','Rezervasyon tutarı' : 'T.Oda Fiyatı'})\n",
    "expedia_df.head()"
   ]
  },
  {
   "cell_type": "code",
   "execution_count": null,
   "metadata": {},
   "outputs": [],
   "source": [
    "expedia_df[\"Voucher\"] = expedia_df[\"Voucher\"].astype(str)\n",
    "expedia_df[\"T.Oda Fiyatı\"] = expedia_df[\"T.Oda Fiyatı\"].astype(float)"
   ]
  },
  {
   "cell_type": "code",
   "execution_count": null,
   "metadata": {},
   "outputs": [],
   "source": [
    "expedia_fark = sedna_df.merge(expedia_df, on='Voucher')\n",
    "expedia_fark= expedia_fark.rename(columns={'T.Oda Fiyatı_x':'Sedna Tutarı','T.Oda Fiyatı_y': 'Expedia Tutarı'})\n",
    "expedia_fark.head()"
   ]
  },
  {
   "cell_type": "code",
   "execution_count": null,
   "metadata": {},
   "outputs": [],
   "source": [
    "expedia_fark['FARK'] = expedia_fark['Sedna Tutarı'] - expedia_fark['Expedia Tutarı']\n",
    "expedia_fark = expedia_fark[expedia_fark['FARK'] != 0]\n",
    "expedia_fark"
   ]
  },
  {
   "cell_type": "code",
   "execution_count": null,
   "metadata": {},
   "outputs": [],
   "source": [
    "expediadaVar_sednadaYok = expedia_df[~expedia_df['Voucher'].isin(sedna_df['Voucher'])]\n",
    "expediadaVar_sednadaYok = expediadaVar_sednadaYok[expediadaVar_sednadaYok['T.Oda Fiyatı'] != 0] # 0 olanlar cancel\n",
    "expediadaVar_sednadaYok"
   ]
  },
  {
   "cell_type": "markdown",
   "metadata": {},
   "source": [
    "## BOOKING.COM FARKLILIKLARI"
   ]
  },
  {
   "cell_type": "code",
   "execution_count": null,
   "metadata": {},
   "outputs": [],
   "source": [
    "booking_fark"
   ]
  },
  {
   "cell_type": "markdown",
   "metadata": {},
   "source": [
    "### Cancel"
   ]
  },
  {
   "cell_type": "code",
   "execution_count": null,
   "metadata": {},
   "outputs": [],
   "source": [
    "komisyon_df"
   ]
  },
  {
   "cell_type": "markdown",
   "metadata": {},
   "source": [
    "### Sednada Yok\n"
   ]
  },
  {
   "cell_type": "code",
   "execution_count": null,
   "metadata": {},
   "outputs": [],
   "source": [
    "bookingdeVar_sednadaYok"
   ]
  },
  {
   "cell_type": "markdown",
   "metadata": {},
   "source": [
    "## EXPEDIA FARKLILIKLARI"
   ]
  },
  {
   "cell_type": "code",
   "execution_count": null,
   "metadata": {},
   "outputs": [],
   "source": [
    "expedia_fark"
   ]
  },
  {
   "cell_type": "code",
   "execution_count": null,
   "metadata": {},
   "outputs": [],
   "source": [
    "expediadaVar_sednadaYok"
   ]
  }
 ],
 "metadata": {
  "kernelspec": {
   "display_name": "Python 3",
   "language": "python",
   "name": "python3"
  },
  "language_info": {
   "codemirror_mode": {
    "name": "ipython",
    "version": 3
   },
   "file_extension": ".py",
   "mimetype": "text/x-python",
   "name": "python",
   "nbconvert_exporter": "python",
   "pygments_lexer": "ipython3",
   "version": "3.11.5"
  }
 },
 "nbformat": 4,
 "nbformat_minor": 2
}
